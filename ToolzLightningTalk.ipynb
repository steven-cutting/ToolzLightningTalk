{
 "cells": [
  {
   "cell_type": "markdown",
   "metadata": {
    "slideshow": {
     "slide_type": "skip"
    }
   },
   "source": [
    "# Should be viewed using the RISE plug-in"
   ]
  },
  {
   "cell_type": "code",
   "execution_count": 1,
   "metadata": {
    "collapsed": true,
    "slideshow": {
     "slide_type": "skip"
    }
   },
   "outputs": [],
   "source": [
    "import toolz"
   ]
  },
  {
   "cell_type": "markdown",
   "metadata": {
    "slideshow": {
     "slide_type": "skip"
    }
   },
   "source": [
    "-----\n",
    "### START OF SLIDES\n",
    "-----"
   ]
  },
  {
   "cell_type": "markdown",
   "metadata": {
    "collapsed": true,
    "slideshow": {
     "slide_type": "slide"
    }
   },
   "source": [
    "# `toolz` Lightning Talk"
   ]
  },
  {
   "cell_type": "markdown",
   "metadata": {
    "slideshow": {
     "slide_type": "subslide"
    }
   },
   "source": [
    "**Main Message:**\n",
    "## If you like any of these\n",
    "\n",
    "+ [**`functools`**](https://docs.python.org/2/library/functools.html)\n",
    "+ [**`itertools`**](https://docs.python.org/2/library/itertools.html)\n",
    "+ [**Functional Programing**](https://docs.python.org/2/howto/functional.html)\n",
    "+ [**Parallel Programing**](https://en.wikipedia.org/wiki/Parallel_programming_model)\n",
    "\n",
    "### you should checkout `toolz`\n",
    "\n",
    "<p style=\"font-size:0.7em; color:Grey;\">**If you are not familiar with these things, I recommend looking into them. They are awesome!*</p>"
   ]
  },
  {
   "cell_type": "markdown",
   "metadata": {
    "slideshow": {
     "slide_type": "skip"
    }
   },
   "source": [
    "----"
   ]
  },
  {
   "cell_type": "markdown",
   "metadata": {
    "slideshow": {
     "slide_type": "slide"
    }
   },
   "source": [
    "# What is `toolz`?"
   ]
  },
  {
   "cell_type": "markdown",
   "metadata": {
    "slideshow": {
     "slide_type": "subslide"
    }
   },
   "source": [
    "## Simple Summery\n",
    "*[A] set of utility functions for iterators, functions, and dictionaries.* - [toolz docs](http://toolz.readthedocs.org/en/latest/index.html)"
   ]
  },
  {
   "cell_type": "markdown",
   "metadata": {
    "slideshow": {
     "slide_type": "subslide"
    }
   },
   "source": [
    "## Extended Summery\n",
    "\n",
    "**`toolz`** extends the Python standard libraries **`functools`** and **`itertools`**. It includes many functions that should be part of the standard library (e.g. `groupby`, `compose`) and some extras."
   ]
  },
  {
   "cell_type": "markdown",
   "metadata": {
    "slideshow": {
     "slide_type": "fragment"
    }
   },
   "source": [
    "It keeps things simple and doesn't try to be *creative*. Every thing is implemented in a pythonic way (no special syntax or hacks). Mostly sticks to functions that are in the [Clojure](http://clojure.org/api/cheatsheet) standard library."
   ]
  },
  {
   "cell_type": "markdown",
   "metadata": {
    "slideshow": {
     "slide_type": "fragment"
    }
   },
   "source": [
    "Everything in `toolz` is easily serializable, which helps make parallel programing easier."
   ]
  },
  {
   "cell_type": "markdown",
   "metadata": {
    "slideshow": {
     "slide_type": "fragment"
    }
   },
   "source": [
    "Was created by [Matthew Rocklin](http://matthewrocklin.com/) and has a decent number of contributors [(~31)](https://github.com/pytoolz/toolz/graphs/contributors). There is also a cythonized version called [**`cytoolz`**](https://github.com/pytoolz/cytoolz)."
   ]
  },
  {
   "cell_type": "markdown",
   "metadata": {
    "slideshow": {
     "slide_type": "skip"
    }
   },
   "source": [
    "----"
   ]
  },
  {
   "cell_type": "markdown",
   "metadata": {
    "slideshow": {
     "slide_type": "slide"
    }
   },
   "source": [
    "# Examples"
   ]
  },
  {
   "cell_type": "markdown",
   "metadata": {
    "slideshow": {
     "slide_type": "subslide"
    }
   },
   "source": [
    "## [`compose`](http://toolz.readthedocs.org/en/latest/api.html#toolz.functoolz.compose)\n",
    "\n",
    "`f(y(g(x))) == compose(f, y, g)`"
   ]
  },
  {
   "cell_type": "code",
   "execution_count": 3,
   "metadata": {
    "collapsed": false,
    "slideshow": {
     "slide_type": "fragment"
    }
   },
   "outputs": [
    {
     "data": {
      "text/plain": [
       "'foo_0_1_2_3'"
      ]
     },
     "execution_count": 3,
     "metadata": {},
     "output_type": "execute_result"
    }
   ],
   "source": [
    "tack_on = toolz.compose(lambda txt: txt + \"_3\",\n",
    "                        lambda txt: txt + \"_2\",\n",
    "                        lambda txt: txt + \"_1\",\n",
    "                        lambda txt: txt + \"_0\")\n",
    "\n",
    "tack_on(\"foo\")"
   ]
  },
  {
   "cell_type": "markdown",
   "metadata": {
    "slideshow": {
     "slide_type": "subslide"
    }
   },
   "source": [
    "### Bonus - DRY version\n",
    "**Using [`curry`](http://toolz.readthedocs.org/en/latest/api.html#toolz.functoolz.curry) (partial eval)**"
   ]
  },
  {
   "cell_type": "code",
   "execution_count": 9,
   "metadata": {
    "collapsed": false,
    "slideshow": {
     "slide_type": "-"
    }
   },
   "outputs": [
    {
     "data": {
      "text/plain": [
       "'foo_0_1_2_3'"
      ]
     },
     "execution_count": 9,
     "metadata": {},
     "output_type": "execute_result"
    }
   ],
   "source": [
    "@toolz.curry\n",
    "def tack_on_single(ext, txt):\n",
    "    return txt + ext\n",
    "\n",
    "\n",
    "tack_on_composed = toolz.compose(tack_on_single(\"_3\"),\n",
    "                                 tack_on_single(\"_2\"),\n",
    "                                 tack_on_single(\"_1\"),\n",
    "                                 tack_on_single(\"_0\"))\n",
    "\n",
    "tack_on_composed(\"foo\")"
   ]
  },
  {
   "cell_type": "markdown",
   "metadata": {
    "collapsed": true,
    "slideshow": {
     "slide_type": "subslide"
    }
   },
   "source": [
    "## [`groupby`](http://toolz.readthedocs.org/en/latest/api.html#toolz.itertoolz.groupby)"
   ]
  },
  {
   "cell_type": "code",
   "execution_count": 11,
   "metadata": {
    "collapsed": false,
    "slideshow": {
     "slide_type": "fragment"
    }
   },
   "outputs": [
    {
     "data": {
      "text/plain": [
       "{False: [0, 2, 4, 6, 8, 10, 12, 14, 16, 18],\n",
       " True: [1, 3, 5, 7, 9, 11, 13, 15, 17, 19]}"
      ]
     },
     "execution_count": 11,
     "metadata": {},
     "output_type": "execute_result"
    }
   ],
   "source": [
    "is_even = lambda n: bool(n % 2)\n",
    "\n",
    "toolz.groupby(is_even, range(20))"
   ]
  },
  {
   "cell_type": "code",
   "execution_count": 14,
   "metadata": {
    "collapsed": false,
    "slideshow": {
     "slide_type": "fragment"
    }
   },
   "outputs": [
    {
     "data": {
      "text/plain": [
       "{3: ['Moe', 'and'],\n",
       " 4: ['spam', 'eggs'],\n",
       " 5: ['Larry', 'Curly', 'Shemp', 'other', 'stuff']}"
      ]
     },
     "execution_count": 14,
     "metadata": {},
     "output_type": "execute_result"
    }
   ],
   "source": [
    "toolz.groupby(len, [\"Larry\", \"Moe\", \"Curly\", \"Shemp\", \n",
    "                    \"spam\", \"eggs\",\n",
    "                    \"and\", \"other\", \"stuff\"])"
   ]
  },
  {
   "cell_type": "markdown",
   "metadata": {
    "slideshow": {
     "slide_type": "subslide"
    }
   },
   "source": [
    "### More `groupby`"
   ]
  },
  {
   "cell_type": "code",
   "execution_count": 17,
   "metadata": {
    "collapsed": false
   },
   "outputs": [
    {
     "data": {
      "text/plain": [
       "{'a': ['and'],\n",
       " 'c': ['Curly'],\n",
       " 'e': ['eggs'],\n",
       " 'l': ['Larry'],\n",
       " 'm': ['Moe'],\n",
       " 'o': ['other'],\n",
       " 's': ['Shemp', 'spam', 'stuff']}"
      ]
     },
     "execution_count": 17,
     "metadata": {},
     "output_type": "execute_result"
    }
   ],
   "source": [
    "lower_first = toolz.compose(toolz.first, str.lower)\n",
    "\n",
    "toolz.groupby(lower_first, [\"Larry\", \"Moe\", \"Curly\", \"Shemp\", \n",
    "                            \"spam\", \"eggs\",\n",
    "                            \"and\", \"other\", \"stuff\"])"
   ]
  },
  {
   "cell_type": "markdown",
   "metadata": {
    "collapsed": true,
    "slideshow": {
     "slide_type": "subslide"
    }
   },
   "source": [
    "## [`pipe`](http://toolz.readthedocs.org/en/latest/api.html#toolz.functoolz.pipe)\n",
    "\n",
    "Similar to `compose`.\n",
    "\n",
    "`f(y(g(x))) == pipe(x, g, y, f)`"
   ]
  },
  {
   "cell_type": "code",
   "execution_count": 2,
   "metadata": {
    "collapsed": false,
    "slideshow": {
     "slide_type": "fragment"
    }
   },
   "outputs": [
    {
     "data": {
      "text/plain": [
       "1"
      ]
     },
     "execution_count": 2,
     "metadata": {},
     "output_type": "execute_result"
    }
   ],
   "source": [
    "tlz.pipe(1,\n",
    "         lambda n: n + 1,\n",
    "         lambda n: n * 2,\n",
    "         lambda n: n / 2,\n",
    "         lambda n: n - 1)"
   ]
  },
  {
   "cell_type": "code",
   "execution_count": 18,
   "metadata": {
    "collapsed": false,
    "scrolled": true,
    "slideshow": {
     "slide_type": "fragment"
    }
   },
   "outputs": [
    {
     "data": {
      "text/plain": [
       "'foo_0_1_2_3'"
      ]
     },
     "execution_count": 18,
     "metadata": {},
     "output_type": "execute_result"
    }
   ],
   "source": [
    "tlz.pipe(\"foo\",\n",
    "         tack_on_single(\"_0\"),\n",
    "         tack_on_single(\"_1\"),\n",
    "         tack_on_single(\"_2\"),\n",
    "         tack_on_single(\"_3\"))"
   ]
  },
  {
   "cell_type": "markdown",
   "metadata": {
    "slideshow": {
     "slide_type": "skip"
    }
   },
   "source": [
    "----"
   ]
  },
  {
   "cell_type": "markdown",
   "metadata": {
    "slideshow": {
     "slide_type": "slide"
    }
   },
   "source": [
    "# Questions?\n",
    "\n",
    "## Contact Info:\n",
    "\n",
    "### Steven Cutting\n",
    "+ **twitter:** @steven_cutting\n",
    "+ **github:** github.com/steven-cutting\n",
    "+ **email:** steven.e.cutting@linux.com\n",
    "\n",
    "\n",
    "## Sample Project\n",
    "\n",
    "For an example of a simple project that makes heavy use of `toolz` checkout **`text2math`**\n",
    "\n",
    "https://github.com/steven-cutting/text2math"
   ]
  },
  {
   "cell_type": "markdown",
   "metadata": {
    "slideshow": {
     "slide_type": "skip"
    }
   },
   "source": [
    "-----\n",
    "### END OF SLIDES\n",
    "-----"
   ]
  },
  {
   "cell_type": "markdown",
   "metadata": {
    "slideshow": {
     "slide_type": "skip"
    }
   },
   "source": [
    "# Also\n",
    "\n",
    "## Be sure to checkout:\n",
    "\n",
    "+ `toolz.functoolz`\n",
    "    - `memoize`\n",
    "    - `curry`\n",
    "    - `juxt`\n",
    "    - etc.\n",
    "\n",
    "+ `toolz.itertoolz`\n",
    "    - `drop`\n",
    "    - `first`\n",
    "    - `take`\n",
    "    - `mapcat`\n",
    "    - `sliding_window`\n",
    "    - etc.\n",
    "\n",
    "+ `toolz.dicttoolz`\n",
    "    - `merge`\n",
    "    - `keymap`\n",
    "    - `keyfilter`\n",
    "    - etc."
   ]
  }
 ],
 "metadata": {
  "kernelspec": {
   "display_name": "Python 2",
   "language": "python",
   "name": "python2"
  },
  "language_info": {
   "codemirror_mode": {
    "name": "ipython",
    "version": 2
   },
   "file_extension": ".py",
   "mimetype": "text/x-python",
   "name": "python",
   "nbconvert_exporter": "python",
   "pygments_lexer": "ipython2",
   "version": "2.7.10"
  }
 },
 "nbformat": 4,
 "nbformat_minor": 0
}
